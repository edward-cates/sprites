{
 "cells": [
  {
   "cell_type": "code",
   "execution_count": 4,
   "metadata": {},
   "outputs": [
    {
     "name": "stdout",
     "output_type": "stream",
     "text": [
      "/home/edward/sprites\n"
     ]
    }
   ],
   "source": [
    "%cd ../"
   ]
  },
  {
   "cell_type": "code",
   "execution_count": 2,
   "metadata": {},
   "outputs": [],
   "source": [
    "from pathlib import Path"
   ]
  },
  {
   "cell_type": "code",
   "execution_count": 10,
   "metadata": {},
   "outputs": [],
   "source": [
    "data_dir = Path(\"data/retro-pixel-characters-generator/data/data\")\n",
    "assert data_dir.exists()"
   ]
  },
  {
   "cell_type": "code",
   "execution_count": 13,
   "metadata": {},
   "outputs": [
    {
     "data": {
      "text/plain": [
       "912"
      ]
     },
     "execution_count": 13,
     "metadata": {},
     "output_type": "execute_result"
    }
   ],
   "source": [
    "subdirs = [x for x in data_dir.iterdir() if x.is_dir()]\n",
    "subdir_contents = [sorted(list(x.iterdir())) for x in subdirs]\n",
    "sprites = list(zip(*subdir_contents))\n",
    "len(sprites)"
   ]
  },
  {
   "cell_type": "code",
   "execution_count": 23,
   "metadata": {},
   "outputs": [],
   "source": [
    "# create a video from the sprites, which are comprised of 4 64x64 images.\n",
    "import numpy as np\n",
    "import cv2\n",
    "from PIL import Image\n",
    "import IPython.display as display"
   ]
  },
  {
   "cell_type": "code",
   "execution_count": 39,
   "metadata": {},
   "outputs": [
    {
     "data": {
      "image/gif": "[encoded data removed]",
      "text/plain": [
       "<IPython.core.display.Image object>"
      ]
     },
     "execution_count": 39,
     "metadata": {},
     "output_type": "execute_result"
    }
   ],
   "source": [
    "def create_gif_from_sprite(frame1: Image.Image, frame2: Image.Image, frame3: Image.Image, frame4: Image.Image) -> str:\n",
    "    # Return the path.\n",
    "    out_path = \"tmp.gif\"\n",
    "    frames = [frame2] * 1 + [frame4] * 1 + [frame3] * 1 + [frame4] * 1\n",
    "    # ping pong\n",
    "    frames[0].save(out_path, save_all=True, append_images=frames[1:], duration=200, loop=0)\n",
    "\n",
    "sprite = sprites[1]\n",
    "create_gif_from_sprite(*[Image.open(x).convert(\"RGB\") for x in sprite])\n",
    "\n",
    "display.Image(\"tmp.gif\")"
   ]
  }
 ],
 "metadata": {
  "kernelspec": {
   "display_name": "sprites",
   "language": "python",
   "name": "python3"
  },
  "language_info": {
   "codemirror_mode": {
    "name": "ipython",
    "version": 3
   },
   "file_extension": ".py",
   "mimetype": "text/x-python",
   "name": "python",
   "nbconvert_exporter": "python",
   "pygments_lexer": "ipython3",
   "version": "3.10.14"
  }
 },
 "nbformat": 4,
 "nbformat_minor": 2
}
