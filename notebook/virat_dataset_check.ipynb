{
 "cells": [
  {
   "cell_type": "code",
   "execution_count": 1,
   "metadata": {},
   "outputs": [
    {
     "name": "stdout",
     "output_type": "stream",
     "text": [
      "/home/edward/sprites\n"
     ]
    }
   ],
   "source": [
    "%cd ../"
   ]
  },
  {
   "cell_type": "code",
   "execution_count": 2,
   "metadata": {},
   "outputs": [],
   "source": [
    "# reload source code.\n",
    "%load_ext autoreload\n",
    "%autoreload 2"
   ]
  },
  {
   "cell_type": "code",
   "execution_count": 3,
   "metadata": {},
   "outputs": [],
   "source": [
    "from src.dataset.virat_dataset import ViratDataset"
   ]
  },
  {
   "cell_type": "code",
   "execution_count": 4,
   "metadata": {},
   "outputs": [],
   "source": [
    "dataset = ViratDataset.from_tiny_virat(max_samples=10)"
   ]
  },
  {
   "cell_type": "code",
   "execution_count": 9,
   "metadata": {},
   "outputs": [
    {
     "name": "stdout",
     "output_type": "stream",
     "text": [
      "video_data.shape torch.Size([116, 68, 68, 3])\n",
      "video_data.shape torch.Size([124, 36, 36, 3])\n",
      "video_data.shape torch.Size([75, 92, 92, 3])\n",
      "video_data.shape torch.Size([75, 46, 46, 3])\n",
      "video_data.shape torch.Size([46, 38, 38, 3])\n"
     ]
    },
    {
     "name": "stderr",
     "output_type": "stream",
     "text": [
      "/home/edward/miniconda3/envs/sprites/lib/python3.10/site-packages/torchvision/io/video.py:161: UserWarning: The pts_unit 'pts' gives wrong results. Please use pts_unit 'sec'.\n",
      "  warnings.warn(\"The pts_unit 'pts' gives wrong results. Please use pts_unit 'sec'.\")\n"
     ]
    },
    {
     "data": {
      "text/plain": [
       "((torch.Size([3, 116, 68, 68]),\n",
       "  'data/TinyVIRAT/videos/train/VIRAT_S_040101_04_000562_000679/3630.mp4'),\n",
       " (torch.Size([3, 124, 36, 36]),\n",
       "  'data/TinyVIRAT/videos/train/VIRAT_S_000001/3799.mp4'),\n",
       " (torch.Size([3, 75, 92, 92]),\n",
       "  'data/TinyVIRAT/videos/train/VIRAT_S_000201_05_001081_001215/473.mp4'),\n",
       " (torch.Size([3, 75, 46, 46]),\n",
       "  'data/TinyVIRAT/videos/train/VIRAT_S_040003_06_001441_001518/5559.mp4'),\n",
       " (torch.Size([3, 46, 38, 38]),\n",
       "  'data/TinyVIRAT/videos/test/VIRAT_S_000201_04_000682_000822/454.mp4'))"
      ]
     },
     "execution_count": 9,
     "metadata": {},
     "output_type": "execute_result"
    }
   ],
   "source": [
    "(\n",
    "    (dataset[0].shape, str(dataset.video_paths[0])),\n",
    "    (dataset[1].shape, str(dataset.video_paths[1])),\n",
    "    (dataset[2].shape, str(dataset.video_paths[2])),\n",
    "    (dataset[3].shape, str(dataset.video_paths[3])),\n",
    "    (dataset[4].shape, str(dataset.video_paths[4])),\n",
    ")"
   ]
  }
 ],
 "metadata": {
  "kernelspec": {
   "display_name": "sprites",
   "language": "python",
   "name": "python3"
  },
  "language_info": {
   "codemirror_mode": {
    "name": "ipython",
    "version": 3
   },
   "file_extension": ".py",
   "mimetype": "text/x-python",
   "name": "python",
   "nbconvert_exporter": "python",
   "pygments_lexer": "ipython3",
   "version": "3.10.14"
  }
 },
 "nbformat": 4,
 "nbformat_minor": 2
}
